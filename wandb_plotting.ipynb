{
 "cells": [
  {
   "cell_type": "code",
   "execution_count": 1,
   "metadata": {},
   "outputs": [],
   "source": [
    "import wandb"
   ]
  },
  {
   "cell_type": "code",
   "execution_count": 2,
   "metadata": {},
   "outputs": [],
   "source": [
    "# Easy\n",
    "steps =    [250, 500, 750, 1000, 1250, 1500, 1750, 2000, 2250]\n",
    "train_loss = [0.947900, 0.696500, 0.686500, 0.673400, 0.666600, 0.619700, 0.609400, 0.613100, 0.603900]\n",
    "eval_loss =  [0.850179, 0.839680, 0.830932, 0.826586, 0.828990, 0.830467, 0.826752, 0.826002, 0.826664]"
   ]
  },
  {
   "cell_type": "code",
   "execution_count": 5,
   "metadata": {},
   "outputs": [],
   "source": [
    "# medium\n",
    "steps = [\n",
    "    250, 500, 750, 1000, 1250, 1500, 1750, 2000, 2250,\n",
    "    2500, 2750, 3000, 3250, 3500, 3750, 4000, 4250, 4500\n",
    "]\n",
    "\n",
    "train_loss = [\n",
    "    0.929200, 0.673600, 0.662100, 0.648400, 0.642700, 0.633900,\n",
    "    0.624400, 0.623000, 0.619400, 0.568300, 0.551700, 0.545800,\n",
    "    0.538400, 0.540300, 0.536400, 0.534500, 0.532200, 0.528500\n",
    "]\n",
    "\n",
    "eval_loss = [\n",
    "    0.852860, 0.839264, 0.828662, 0.819119, 0.815195, 0.811214,\n",
    "    0.807913, 0.806324, 0.800325, 0.815402, 0.815806, 0.814971,\n",
    "    0.812022, 0.812041, 0.811309, 0.810600, 0.808617, 0.808625\n",
    "]\n"
   ]
  },
  {
   "cell_type": "code",
   "execution_count": 7,
   "metadata": {},
   "outputs": [],
   "source": [
    "# hard\n",
    "steps = [\n",
    "    250, 500, 750, 1000, 1250, 1500, 1750, 2000, 2250,\n",
    "    2500, 2750, 3000, 3250, 3500, 3750, 4000, 4250\n",
    "]\n",
    "\n",
    "train_loss = [\n",
    "    0.898700, 0.689000, 0.677300, 0.666300, 0.654700, 0.643500,\n",
    "    0.638900, 0.624000, 0.615300, 0.532400, 0.528000, 0.521000,\n",
    "    0.516800, 0.508200, 0.505200, 0.504500, 0.503200\n",
    "]\n",
    "\n",
    "eval_loss = [\n",
    "    0.970238, 0.930709, 0.932519, 0.925750, 0.921676, 0.928431,\n",
    "    0.915237, 0.907603, 0.930552, 0.923371, 0.928714, 0.927200,\n",
    "    0.920001, 0.920595, 0.925150, 0.925274, 0.925303\n",
    "]\n"
   ]
  },
  {
   "cell_type": "code",
   "execution_count": 3,
   "metadata": {},
   "outputs": [],
   "source": [
    "def log_to_wandb(project_name, run_name, steps, train_loss, eval_loss):\n",
    "    wandb.init(project=project_name, name=run_name)\n",
    "    for step, train, eval_ in zip(steps, train_loss, eval_loss):\n",
    "        wandb.log({\n",
    "            \"step\": step,\n",
    "            \"training_loss\": train,\n",
    "            \"eval_loss\": eval_\n",
    "        })\n",
    "\n",
    "    # 3. End the run\n",
    "    wandb.finish()\n"
   ]
  },
  {
   "cell_type": "code",
   "execution_count": 4,
   "metadata": {},
   "outputs": [
    {
     "name": "stderr",
     "output_type": "stream",
     "text": [
      "\u001b[34m\u001b[1mwandb\u001b[0m: Currently logged in as: \u001b[33msyammohan2103\u001b[0m to \u001b[32mhttps://api.wandb.ai\u001b[0m. Use \u001b[1m`wandb login --relogin`\u001b[0m to force relogin\n"
     ]
    },
    {
     "data": {
      "text/html": [
       "Tracking run with wandb version 0.19.10"
      ],
      "text/plain": [
       "<IPython.core.display.HTML object>"
      ]
     },
     "metadata": {},
     "output_type": "display_data"
    },
    {
     "data": {
      "text/html": [
       "Run data is saved locally in <code>/home/workspace/CS769/wandb/run-20250502_105529-rjf34f40</code>"
      ],
      "text/plain": [
       "<IPython.core.display.HTML object>"
      ]
     },
     "metadata": {},
     "output_type": "display_data"
    },
    {
     "data": {
      "text/html": [
       "Syncing run <strong><a href='https://wandb.ai/syammohan2103/cs769_llama/runs/rjf34f40' target=\"_blank\">Easy_LoRA</a></strong> to <a href='https://wandb.ai/syammohan2103/cs769_llama' target=\"_blank\">Weights & Biases</a> (<a href='https://wandb.me/developer-guide' target=\"_blank\">docs</a>)<br>"
      ],
      "text/plain": [
       "<IPython.core.display.HTML object>"
      ]
     },
     "metadata": {},
     "output_type": "display_data"
    },
    {
     "data": {
      "text/html": [
       " View project at <a href='https://wandb.ai/syammohan2103/cs769_llama' target=\"_blank\">https://wandb.ai/syammohan2103/cs769_llama</a>"
      ],
      "text/plain": [
       "<IPython.core.display.HTML object>"
      ]
     },
     "metadata": {},
     "output_type": "display_data"
    },
    {
     "data": {
      "text/html": [
       " View run at <a href='https://wandb.ai/syammohan2103/cs769_llama/runs/rjf34f40' target=\"_blank\">https://wandb.ai/syammohan2103/cs769_llama/runs/rjf34f40</a>"
      ],
      "text/plain": [
       "<IPython.core.display.HTML object>"
      ]
     },
     "metadata": {},
     "output_type": "display_data"
    },
    {
     "data": {
      "text/html": [],
      "text/plain": [
       "<IPython.core.display.HTML object>"
      ]
     },
     "metadata": {},
     "output_type": "display_data"
    },
    {
     "data": {
      "text/html": [
       "<br>    <style><br>        .wandb-row {<br>            display: flex;<br>            flex-direction: row;<br>            flex-wrap: wrap;<br>            justify-content: flex-start;<br>            width: 100%;<br>        }<br>        .wandb-col {<br>            display: flex;<br>            flex-direction: column;<br>            flex-basis: 100%;<br>            flex: 1;<br>            padding: 10px;<br>        }<br>    </style><br><div class=\"wandb-row\"><div class=\"wandb-col\"><h3>Run history:</h3><br/><table class=\"wandb\"><tr><td>eval_loss</td><td>█▅▂▁▂▂▁▁▁</td></tr><tr><td>step</td><td>▁▂▃▄▅▅▆▇█</td></tr><tr><td>training_loss</td><td>█▃▃▂▂▁▁▁▁</td></tr></table><br/></div><div class=\"wandb-col\"><h3>Run summary:</h3><br/><table class=\"wandb\"><tr><td>eval_loss</td><td>0.82666</td></tr><tr><td>step</td><td>2250</td></tr><tr><td>training_loss</td><td>0.6039</td></tr></table><br/></div></div>"
      ],
      "text/plain": [
       "<IPython.core.display.HTML object>"
      ]
     },
     "metadata": {},
     "output_type": "display_data"
    },
    {
     "data": {
      "text/html": [
       " View run <strong style=\"color:#cdcd00\">Easy_LoRA</strong> at: <a href='https://wandb.ai/syammohan2103/cs769_llama/runs/rjf34f40' target=\"_blank\">https://wandb.ai/syammohan2103/cs769_llama/runs/rjf34f40</a><br> View project at: <a href='https://wandb.ai/syammohan2103/cs769_llama' target=\"_blank\">https://wandb.ai/syammohan2103/cs769_llama</a><br>Synced 5 W&B file(s), 0 media file(s), 0 artifact file(s) and 0 other file(s)"
      ],
      "text/plain": [
       "<IPython.core.display.HTML object>"
      ]
     },
     "metadata": {},
     "output_type": "display_data"
    },
    {
     "data": {
      "text/html": [
       "Find logs at: <code>./wandb/run-20250502_105529-rjf34f40/logs</code>"
      ],
      "text/plain": [
       "<IPython.core.display.HTML object>"
      ]
     },
     "metadata": {},
     "output_type": "display_data"
    }
   ],
   "source": [
    "log_to_wandb('cs769_llama', 'Easy_LoRA', steps, train_loss, eval_loss)"
   ]
  },
  {
   "cell_type": "code",
   "execution_count": 6,
   "metadata": {},
   "outputs": [
    {
     "data": {
      "text/html": [
       "Tracking run with wandb version 0.19.10"
      ],
      "text/plain": [
       "<IPython.core.display.HTML object>"
      ]
     },
     "metadata": {},
     "output_type": "display_data"
    },
    {
     "data": {
      "text/html": [
       "Run data is saved locally in <code>/home/workspace/CS769/wandb/run-20250502_105645-ddyhjnv3</code>"
      ],
      "text/plain": [
       "<IPython.core.display.HTML object>"
      ]
     },
     "metadata": {},
     "output_type": "display_data"
    },
    {
     "data": {
      "text/html": [
       "Syncing run <strong><a href='https://wandb.ai/syammohan2103/cs769_llama/runs/ddyhjnv3' target=\"_blank\">Medium_LoRA</a></strong> to <a href='https://wandb.ai/syammohan2103/cs769_llama' target=\"_blank\">Weights & Biases</a> (<a href='https://wandb.me/developer-guide' target=\"_blank\">docs</a>)<br>"
      ],
      "text/plain": [
       "<IPython.core.display.HTML object>"
      ]
     },
     "metadata": {},
     "output_type": "display_data"
    },
    {
     "data": {
      "text/html": [
       " View project at <a href='https://wandb.ai/syammohan2103/cs769_llama' target=\"_blank\">https://wandb.ai/syammohan2103/cs769_llama</a>"
      ],
      "text/plain": [
       "<IPython.core.display.HTML object>"
      ]
     },
     "metadata": {},
     "output_type": "display_data"
    },
    {
     "data": {
      "text/html": [
       " View run at <a href='https://wandb.ai/syammohan2103/cs769_llama/runs/ddyhjnv3' target=\"_blank\">https://wandb.ai/syammohan2103/cs769_llama/runs/ddyhjnv3</a>"
      ],
      "text/plain": [
       "<IPython.core.display.HTML object>"
      ]
     },
     "metadata": {},
     "output_type": "display_data"
    },
    {
     "data": {
      "text/html": [],
      "text/plain": [
       "<IPython.core.display.HTML object>"
      ]
     },
     "metadata": {},
     "output_type": "display_data"
    },
    {
     "data": {
      "text/html": [
       "<br>    <style><br>        .wandb-row {<br>            display: flex;<br>            flex-direction: row;<br>            flex-wrap: wrap;<br>            justify-content: flex-start;<br>            width: 100%;<br>        }<br>        .wandb-col {<br>            display: flex;<br>            flex-direction: column;<br>            flex-basis: 100%;<br>            flex: 1;<br>            padding: 10px;<br>        }<br>    </style><br><div class=\"wandb-row\"><div class=\"wandb-col\"><h3>Run history:</h3><br/><table class=\"wandb\"><tr><td>eval_loss</td><td>█▆▅▄▃▂▂▂▁▃▃▃▃▃▂▂▂▂</td></tr><tr><td>step</td><td>▁▁▂▂▃▃▃▄▄▅▅▆▆▆▇▇██</td></tr><tr><td>training_loss</td><td>█▄▃▃▃▃▃▃▃▂▁▁▁▁▁▁▁▁</td></tr></table><br/></div><div class=\"wandb-col\"><h3>Run summary:</h3><br/><table class=\"wandb\"><tr><td>eval_loss</td><td>0.80863</td></tr><tr><td>step</td><td>4500</td></tr><tr><td>training_loss</td><td>0.5285</td></tr></table><br/></div></div>"
      ],
      "text/plain": [
       "<IPython.core.display.HTML object>"
      ]
     },
     "metadata": {},
     "output_type": "display_data"
    },
    {
     "data": {
      "text/html": [
       " View run <strong style=\"color:#cdcd00\">Medium_LoRA</strong> at: <a href='https://wandb.ai/syammohan2103/cs769_llama/runs/ddyhjnv3' target=\"_blank\">https://wandb.ai/syammohan2103/cs769_llama/runs/ddyhjnv3</a><br> View project at: <a href='https://wandb.ai/syammohan2103/cs769_llama' target=\"_blank\">https://wandb.ai/syammohan2103/cs769_llama</a><br>Synced 5 W&B file(s), 0 media file(s), 0 artifact file(s) and 0 other file(s)"
      ],
      "text/plain": [
       "<IPython.core.display.HTML object>"
      ]
     },
     "metadata": {},
     "output_type": "display_data"
    },
    {
     "data": {
      "text/html": [
       "Find logs at: <code>./wandb/run-20250502_105645-ddyhjnv3/logs</code>"
      ],
      "text/plain": [
       "<IPython.core.display.HTML object>"
      ]
     },
     "metadata": {},
     "output_type": "display_data"
    }
   ],
   "source": [
    "log_to_wandb('cs769_llama', 'Medium_LoRA', steps, train_loss, eval_loss)"
   ]
  },
  {
   "cell_type": "code",
   "execution_count": 8,
   "metadata": {},
   "outputs": [
    {
     "data": {
      "text/html": [
       "Tracking run with wandb version 0.19.10"
      ],
      "text/plain": [
       "<IPython.core.display.HTML object>"
      ]
     },
     "metadata": {},
     "output_type": "display_data"
    },
    {
     "data": {
      "text/html": [
       "Run data is saved locally in <code>/home/workspace/CS769/wandb/run-20250502_105816-1f86zem0</code>"
      ],
      "text/plain": [
       "<IPython.core.display.HTML object>"
      ]
     },
     "metadata": {},
     "output_type": "display_data"
    },
    {
     "data": {
      "text/html": [
       "Syncing run <strong><a href='https://wandb.ai/syammohan2103/cs769_llama/runs/1f86zem0' target=\"_blank\">Hard_LoRA</a></strong> to <a href='https://wandb.ai/syammohan2103/cs769_llama' target=\"_blank\">Weights & Biases</a> (<a href='https://wandb.me/developer-guide' target=\"_blank\">docs</a>)<br>"
      ],
      "text/plain": [
       "<IPython.core.display.HTML object>"
      ]
     },
     "metadata": {},
     "output_type": "display_data"
    },
    {
     "data": {
      "text/html": [
       " View project at <a href='https://wandb.ai/syammohan2103/cs769_llama' target=\"_blank\">https://wandb.ai/syammohan2103/cs769_llama</a>"
      ],
      "text/plain": [
       "<IPython.core.display.HTML object>"
      ]
     },
     "metadata": {},
     "output_type": "display_data"
    },
    {
     "data": {
      "text/html": [
       " View run at <a href='https://wandb.ai/syammohan2103/cs769_llama/runs/1f86zem0' target=\"_blank\">https://wandb.ai/syammohan2103/cs769_llama/runs/1f86zem0</a>"
      ],
      "text/plain": [
       "<IPython.core.display.HTML object>"
      ]
     },
     "metadata": {},
     "output_type": "display_data"
    },
    {
     "data": {
      "text/html": [],
      "text/plain": [
       "<IPython.core.display.HTML object>"
      ]
     },
     "metadata": {},
     "output_type": "display_data"
    },
    {
     "data": {
      "text/html": [
       "<br>    <style><br>        .wandb-row {<br>            display: flex;<br>            flex-direction: row;<br>            flex-wrap: wrap;<br>            justify-content: flex-start;<br>            width: 100%;<br>        }<br>        .wandb-col {<br>            display: flex;<br>            flex-direction: column;<br>            flex-basis: 100%;<br>            flex: 1;<br>            padding: 10px;<br>        }<br>    </style><br><div class=\"wandb-row\"><div class=\"wandb-col\"><h3>Run history:</h3><br/><table class=\"wandb\"><tr><td>eval_loss</td><td>█▄▄▃▃▃▂▁▄▃▃▃▂▂▃▃▃</td></tr><tr><td>step</td><td>▁▁▂▂▃▃▄▄▅▅▅▆▆▇▇██</td></tr><tr><td>training_loss</td><td>█▄▄▄▄▃▃▃▃▂▁▁▁▁▁▁▁</td></tr></table><br/></div><div class=\"wandb-col\"><h3>Run summary:</h3><br/><table class=\"wandb\"><tr><td>eval_loss</td><td>0.9253</td></tr><tr><td>step</td><td>4250</td></tr><tr><td>training_loss</td><td>0.5032</td></tr></table><br/></div></div>"
      ],
      "text/plain": [
       "<IPython.core.display.HTML object>"
      ]
     },
     "metadata": {},
     "output_type": "display_data"
    },
    {
     "data": {
      "text/html": [
       " View run <strong style=\"color:#cdcd00\">Hard_LoRA</strong> at: <a href='https://wandb.ai/syammohan2103/cs769_llama/runs/1f86zem0' target=\"_blank\">https://wandb.ai/syammohan2103/cs769_llama/runs/1f86zem0</a><br> View project at: <a href='https://wandb.ai/syammohan2103/cs769_llama' target=\"_blank\">https://wandb.ai/syammohan2103/cs769_llama</a><br>Synced 5 W&B file(s), 0 media file(s), 0 artifact file(s) and 0 other file(s)"
      ],
      "text/plain": [
       "<IPython.core.display.HTML object>"
      ]
     },
     "metadata": {},
     "output_type": "display_data"
    },
    {
     "data": {
      "text/html": [
       "Find logs at: <code>./wandb/run-20250502_105816-1f86zem0/logs</code>"
      ],
      "text/plain": [
       "<IPython.core.display.HTML object>"
      ]
     },
     "metadata": {},
     "output_type": "display_data"
    }
   ],
   "source": [
    "log_to_wandb('cs769_llama', 'Hard_LoRA', steps, train_loss, eval_loss)"
   ]
  },
  {
   "cell_type": "code",
   "execution_count": null,
   "metadata": {},
   "outputs": [],
   "source": []
  },
  {
   "cell_type": "code",
   "execution_count": null,
   "metadata": {},
   "outputs": [],
   "source": []
  },
  {
   "cell_type": "code",
   "execution_count": null,
   "metadata": {},
   "outputs": [],
   "source": []
  },
  {
   "cell_type": "code",
   "execution_count": null,
   "metadata": {},
   "outputs": [],
   "source": []
  }
 ],
 "metadata": {
  "kernelspec": {
   "display_name": "cs769_env",
   "language": "python",
   "name": "python3"
  },
  "language_info": {
   "codemirror_mode": {
    "name": "ipython",
    "version": 3
   },
   "file_extension": ".py",
   "mimetype": "text/x-python",
   "name": "python",
   "nbconvert_exporter": "python",
   "pygments_lexer": "ipython3",
   "version": "3.10.16"
  }
 },
 "nbformat": 4,
 "nbformat_minor": 2
}
